{
 "cells": [
  {
   "cell_type": "markdown",
   "metadata": {},
   "source": [
    "# Extracting Sequences from BLAST Outputs"
   ]
  },
  {
   "cell_type": "code",
   "execution_count": 1,
   "metadata": {},
   "outputs": [],
   "source": [
    "import pandas as pd\n",
    "import glob"
   ]
  },
  {
   "cell_type": "markdown",
   "metadata": {},
   "source": [
    "## Read tab-delimited BLAST output and concatenate"
   ]
  },
  {
   "cell_type": "code",
   "execution_count": 2,
   "metadata": {},
   "outputs": [
    {
     "name": "stdout",
     "output_type": "stream",
     "text": [
      "Found: BLAST-tabs/AFSV-tape-protien-blastp-against-virus-0.01evalue-1.tab\n",
      "Found: BLAST-tabs/CroV-tape-protien-blastp-against-virus-0.01evalue-1.tab\n",
      "Found: BLAST-tabs/Faustovirus-tape-protien-blastp-against-virus-0.01evalue-1.tab\n",
      "Found: BLAST-tabs/Mimivirus-tape-protien-blastp-against-virus-0.01evalue-1.tab\n",
      "Found: BLAST-tabs/PBCV-1-tape-protien-blastp-against-virus-0.01evalue-1.tab\n"
     ]
    }
   ],
   "source": [
    "blast_results = pd.DataFrame()\n",
    "\n",
    "for tab in glob.glob(\"BLAST-tabs/*.tab\"):\n",
    "    print(\"Found:\", tab)\n",
    "    blast_results = blast_results.append(pd.read_csv(tab, sep='\\t'))"
   ]
  },
  {
   "cell_type": "code",
   "execution_count": 3,
   "metadata": {},
   "outputs": [
    {
     "data": {
      "text/html": [
       "<div>\n",
       "<style scoped>\n",
       "    .dataframe tbody tr th:only-of-type {\n",
       "        vertical-align: middle;\n",
       "    }\n",
       "\n",
       "    .dataframe tbody tr th {\n",
       "        vertical-align: top;\n",
       "    }\n",
       "\n",
       "    .dataframe thead th {\n",
       "        text-align: right;\n",
       "    }\n",
       "</style>\n",
       "<table border=\"1\" class=\"dataframe\">\n",
       "  <thead>\n",
       "    <tr style=\"text-align: right;\">\n",
       "      <th></th>\n",
       "      <th>Entry</th>\n",
       "      <th>Info</th>\n",
       "      <th>Unnamed: 2</th>\n",
       "      <th>Unnamed: 3</th>\n",
       "      <th>Gene names</th>\n",
       "      <th>Organism</th>\n",
       "      <th>Organism ID</th>\n",
       "      <th>Protein names</th>\n",
       "      <th>Taxonomic lineage IDs</th>\n",
       "      <th>Sequence</th>\n",
       "    </tr>\n",
       "  </thead>\n",
       "  <tbody>\n",
       "    <tr>\n",
       "      <th>P0CAB3</th>\n",
       "      <td>E-value: 0.0;</td>\n",
       "      <td>Score: 6,490;</td>\n",
       "      <td>Ident.: 100.0%</td>\n",
       "      <td>NaN</td>\n",
       "      <td>Ken-072</td>\n",
       "      <td>African swine fever virus (isolate Pig/Kenya/K...</td>\n",
       "      <td>561445</td>\n",
       "      <td>Uncharacterized protein M1249L (pM1249L)</td>\n",
       "      <td>561445</td>\n",
       "      <td>MEEVITIAQIVHRGTDILSLNNEEIEALVDEIYSTLKGSNDIKNIR...</td>\n",
       "    </tr>\n",
       "    <tr>\n",
       "      <th>A0A0C5AWP7</th>\n",
       "      <td>E-value: 0.0;</td>\n",
       "      <td>Score: 6,440;</td>\n",
       "      <td>Ident.: 99.0%</td>\n",
       "      <td>NaN</td>\n",
       "      <td>BA71V-M1249L</td>\n",
       "      <td>African swine fever virus (ASFV)</td>\n",
       "      <td>10497</td>\n",
       "      <td>BA71V-M1249L</td>\n",
       "      <td>10497</td>\n",
       "      <td>MEEVITIAQIVHRGTDILSLNNEEIEALVDEIYSTLKGSNDIKNIR...</td>\n",
       "    </tr>\n",
       "    <tr>\n",
       "      <th>A0A2Z5DFV5</th>\n",
       "      <td>E-value: 0.0;</td>\n",
       "      <td>Score: 6,435;</td>\n",
       "      <td>Ident.: 98.9%</td>\n",
       "      <td>NaN</td>\n",
       "      <td>M1249L</td>\n",
       "      <td>African swine fever virus (ASFV)</td>\n",
       "      <td>10497</td>\n",
       "      <td>PM1249L</td>\n",
       "      <td>10497</td>\n",
       "      <td>MEEVITIAQIVHRGTDILSLNNEEIEALVDEIYSTLKGSNDIKNIR...</td>\n",
       "    </tr>\n",
       "    <tr>\n",
       "      <th>A0A2Z5DGI2</th>\n",
       "      <td>E-value: 0.0;</td>\n",
       "      <td>Score: 6,434;</td>\n",
       "      <td>Ident.: 98.9%</td>\n",
       "      <td>NaN</td>\n",
       "      <td>M1249L</td>\n",
       "      <td>African swine fever virus (ASFV)</td>\n",
       "      <td>10497</td>\n",
       "      <td>PM1249L</td>\n",
       "      <td>10497</td>\n",
       "      <td>MEEVITIAQIVHRGTDILSLNNEEIEALVDEIYSTLKGSNDIKNIR...</td>\n",
       "    </tr>\n",
       "    <tr>\n",
       "      <th>A0A0C5AWA9</th>\n",
       "      <td>E-value: 0.0;</td>\n",
       "      <td>Score: 6,403;</td>\n",
       "      <td>Ident.: 98.9%</td>\n",
       "      <td>NaN</td>\n",
       "      <td>BA71V-M1249L</td>\n",
       "      <td>African swine fever virus (ASFV)</td>\n",
       "      <td>10497</td>\n",
       "      <td>BA71V-M1249L</td>\n",
       "      <td>10497</td>\n",
       "      <td>MEEVITIAQIVHRGTDILSLNNEEIEALVDEIYSTLKGSNDIKNIR...</td>\n",
       "    </tr>\n",
       "  </tbody>\n",
       "</table>\n",
       "</div>"
      ],
      "text/plain": [
       "                    Entry           Info      Unnamed: 2  Unnamed: 3  \\\n",
       "P0CAB3      E-value: 0.0;  Score: 6,490;  Ident.: 100.0%         NaN   \n",
       "A0A0C5AWP7  E-value: 0.0;  Score: 6,440;   Ident.: 99.0%         NaN   \n",
       "A0A2Z5DFV5  E-value: 0.0;  Score: 6,435;   Ident.: 98.9%         NaN   \n",
       "A0A2Z5DGI2  E-value: 0.0;  Score: 6,434;   Ident.: 98.9%         NaN   \n",
       "A0A0C5AWA9  E-value: 0.0;  Score: 6,403;   Ident.: 98.9%         NaN   \n",
       "\n",
       "              Gene names                                           Organism  \\\n",
       "P0CAB3           Ken-072  African swine fever virus (isolate Pig/Kenya/K...   \n",
       "A0A0C5AWP7  BA71V-M1249L                   African swine fever virus (ASFV)   \n",
       "A0A2Z5DFV5        M1249L                   African swine fever virus (ASFV)   \n",
       "A0A2Z5DGI2        M1249L                   African swine fever virus (ASFV)   \n",
       "A0A0C5AWA9  BA71V-M1249L                   African swine fever virus (ASFV)   \n",
       "\n",
       "            Organism ID                             Protein names  \\\n",
       "P0CAB3           561445  Uncharacterized protein M1249L (pM1249L)   \n",
       "A0A0C5AWP7        10497                              BA71V-M1249L   \n",
       "A0A2Z5DFV5        10497                                   PM1249L   \n",
       "A0A2Z5DGI2        10497                                   PM1249L   \n",
       "A0A0C5AWA9        10497                              BA71V-M1249L   \n",
       "\n",
       "            Taxonomic lineage IDs  \\\n",
       "P0CAB3                     561445   \n",
       "A0A0C5AWP7                  10497   \n",
       "A0A2Z5DFV5                  10497   \n",
       "A0A2Z5DGI2                  10497   \n",
       "A0A0C5AWA9                  10497   \n",
       "\n",
       "                                                     Sequence  \n",
       "P0CAB3      MEEVITIAQIVHRGTDILSLNNEEIEALVDEIYSTLKGSNDIKNIR...  \n",
       "A0A0C5AWP7  MEEVITIAQIVHRGTDILSLNNEEIEALVDEIYSTLKGSNDIKNIR...  \n",
       "A0A2Z5DFV5  MEEVITIAQIVHRGTDILSLNNEEIEALVDEIYSTLKGSNDIKNIR...  \n",
       "A0A2Z5DGI2  MEEVITIAQIVHRGTDILSLNNEEIEALVDEIYSTLKGSNDIKNIR...  \n",
       "A0A0C5AWA9  MEEVITIAQIVHRGTDILSLNNEEIEALVDEIYSTLKGSNDIKNIR...  "
      ]
     },
     "execution_count": 3,
     "metadata": {},
     "output_type": "execute_result"
    }
   ],
   "source": [
    "blast_results.head()"
   ]
  },
  {
   "cell_type": "markdown",
   "metadata": {},
   "source": [
    "## Fix the table\n",
    "There is an empty column, and the column some column names are wrong..."
   ]
  },
  {
   "cell_type": "code",
   "execution_count": 4,
   "metadata": {},
   "outputs": [],
   "source": [
    "del blast_results['Unnamed: 3']\n",
    "blast_results = blast_results.rename(columns = {'Entry': 'E-value',\n",
    "                                                'Info': 'Score',\n",
    "                                                'Unnamed: 2': 'Identity'})"
   ]
  },
  {
   "cell_type": "code",
   "execution_count": 5,
   "metadata": {},
   "outputs": [],
   "source": [
    "blast_results['Accession'] = blast_results.index"
   ]
  },
  {
   "cell_type": "code",
   "execution_count": 6,
   "metadata": {},
   "outputs": [
    {
     "data": {
      "text/html": [
       "<div>\n",
       "<style scoped>\n",
       "    .dataframe tbody tr th:only-of-type {\n",
       "        vertical-align: middle;\n",
       "    }\n",
       "\n",
       "    .dataframe tbody tr th {\n",
       "        vertical-align: top;\n",
       "    }\n",
       "\n",
       "    .dataframe thead th {\n",
       "        text-align: right;\n",
       "    }\n",
       "</style>\n",
       "<table border=\"1\" class=\"dataframe\">\n",
       "  <thead>\n",
       "    <tr style=\"text-align: right;\">\n",
       "      <th></th>\n",
       "      <th>E-value</th>\n",
       "      <th>Score</th>\n",
       "      <th>Identity</th>\n",
       "      <th>Gene names</th>\n",
       "      <th>Organism</th>\n",
       "      <th>Organism ID</th>\n",
       "      <th>Protein names</th>\n",
       "      <th>Taxonomic lineage IDs</th>\n",
       "      <th>Sequence</th>\n",
       "      <th>Accession</th>\n",
       "    </tr>\n",
       "  </thead>\n",
       "  <tbody>\n",
       "    <tr>\n",
       "      <th>P0CAB3</th>\n",
       "      <td>E-value: 0.0;</td>\n",
       "      <td>Score: 6,490;</td>\n",
       "      <td>Ident.: 100.0%</td>\n",
       "      <td>Ken-072</td>\n",
       "      <td>African swine fever virus (isolate Pig/Kenya/K...</td>\n",
       "      <td>561445</td>\n",
       "      <td>Uncharacterized protein M1249L (pM1249L)</td>\n",
       "      <td>561445</td>\n",
       "      <td>MEEVITIAQIVHRGTDILSLNNEEIEALVDEIYSTLKGSNDIKNIR...</td>\n",
       "      <td>P0CAB3</td>\n",
       "    </tr>\n",
       "    <tr>\n",
       "      <th>A0A0C5AWP7</th>\n",
       "      <td>E-value: 0.0;</td>\n",
       "      <td>Score: 6,440;</td>\n",
       "      <td>Ident.: 99.0%</td>\n",
       "      <td>BA71V-M1249L</td>\n",
       "      <td>African swine fever virus (ASFV)</td>\n",
       "      <td>10497</td>\n",
       "      <td>BA71V-M1249L</td>\n",
       "      <td>10497</td>\n",
       "      <td>MEEVITIAQIVHRGTDILSLNNEEIEALVDEIYSTLKGSNDIKNIR...</td>\n",
       "      <td>A0A0C5AWP7</td>\n",
       "    </tr>\n",
       "    <tr>\n",
       "      <th>A0A2Z5DFV5</th>\n",
       "      <td>E-value: 0.0;</td>\n",
       "      <td>Score: 6,435;</td>\n",
       "      <td>Ident.: 98.9%</td>\n",
       "      <td>M1249L</td>\n",
       "      <td>African swine fever virus (ASFV)</td>\n",
       "      <td>10497</td>\n",
       "      <td>PM1249L</td>\n",
       "      <td>10497</td>\n",
       "      <td>MEEVITIAQIVHRGTDILSLNNEEIEALVDEIYSTLKGSNDIKNIR...</td>\n",
       "      <td>A0A2Z5DFV5</td>\n",
       "    </tr>\n",
       "    <tr>\n",
       "      <th>A0A2Z5DGI2</th>\n",
       "      <td>E-value: 0.0;</td>\n",
       "      <td>Score: 6,434;</td>\n",
       "      <td>Ident.: 98.9%</td>\n",
       "      <td>M1249L</td>\n",
       "      <td>African swine fever virus (ASFV)</td>\n",
       "      <td>10497</td>\n",
       "      <td>PM1249L</td>\n",
       "      <td>10497</td>\n",
       "      <td>MEEVITIAQIVHRGTDILSLNNEEIEALVDEIYSTLKGSNDIKNIR...</td>\n",
       "      <td>A0A2Z5DGI2</td>\n",
       "    </tr>\n",
       "    <tr>\n",
       "      <th>A0A0C5AWA9</th>\n",
       "      <td>E-value: 0.0;</td>\n",
       "      <td>Score: 6,403;</td>\n",
       "      <td>Ident.: 98.9%</td>\n",
       "      <td>BA71V-M1249L</td>\n",
       "      <td>African swine fever virus (ASFV)</td>\n",
       "      <td>10497</td>\n",
       "      <td>BA71V-M1249L</td>\n",
       "      <td>10497</td>\n",
       "      <td>MEEVITIAQIVHRGTDILSLNNEEIEALVDEIYSTLKGSNDIKNIR...</td>\n",
       "      <td>A0A0C5AWA9</td>\n",
       "    </tr>\n",
       "  </tbody>\n",
       "</table>\n",
       "</div>"
      ],
      "text/plain": [
       "                  E-value          Score        Identity    Gene names  \\\n",
       "P0CAB3      E-value: 0.0;  Score: 6,490;  Ident.: 100.0%       Ken-072   \n",
       "A0A0C5AWP7  E-value: 0.0;  Score: 6,440;   Ident.: 99.0%  BA71V-M1249L   \n",
       "A0A2Z5DFV5  E-value: 0.0;  Score: 6,435;   Ident.: 98.9%        M1249L   \n",
       "A0A2Z5DGI2  E-value: 0.0;  Score: 6,434;   Ident.: 98.9%        M1249L   \n",
       "A0A0C5AWA9  E-value: 0.0;  Score: 6,403;   Ident.: 98.9%  BA71V-M1249L   \n",
       "\n",
       "                                                     Organism  Organism ID  \\\n",
       "P0CAB3      African swine fever virus (isolate Pig/Kenya/K...       561445   \n",
       "A0A0C5AWP7                   African swine fever virus (ASFV)        10497   \n",
       "A0A2Z5DFV5                   African swine fever virus (ASFV)        10497   \n",
       "A0A2Z5DGI2                   African swine fever virus (ASFV)        10497   \n",
       "A0A0C5AWA9                   African swine fever virus (ASFV)        10497   \n",
       "\n",
       "                                       Protein names  Taxonomic lineage IDs  \\\n",
       "P0CAB3      Uncharacterized protein M1249L (pM1249L)                 561445   \n",
       "A0A0C5AWP7                              BA71V-M1249L                  10497   \n",
       "A0A2Z5DFV5                                   PM1249L                  10497   \n",
       "A0A2Z5DGI2                                   PM1249L                  10497   \n",
       "A0A0C5AWA9                              BA71V-M1249L                  10497   \n",
       "\n",
       "                                                     Sequence   Accession  \n",
       "P0CAB3      MEEVITIAQIVHRGTDILSLNNEEIEALVDEIYSTLKGSNDIKNIR...      P0CAB3  \n",
       "A0A0C5AWP7  MEEVITIAQIVHRGTDILSLNNEEIEALVDEIYSTLKGSNDIKNIR...  A0A0C5AWP7  \n",
       "A0A2Z5DFV5  MEEVITIAQIVHRGTDILSLNNEEIEALVDEIYSTLKGSNDIKNIR...  A0A2Z5DFV5  \n",
       "A0A2Z5DGI2  MEEVITIAQIVHRGTDILSLNNEEIEALVDEIYSTLKGSNDIKNIR...  A0A2Z5DGI2  \n",
       "A0A0C5AWA9  MEEVITIAQIVHRGTDILSLNNEEIEALVDEIYSTLKGSNDIKNIR...  A0A0C5AWA9  "
      ]
     },
     "execution_count": 6,
     "metadata": {},
     "output_type": "execute_result"
    }
   ],
   "source": [
    "blast_results.head()"
   ]
  },
  {
   "cell_type": "markdown",
   "metadata": {},
   "source": [
    "## Remove duplicates"
   ]
  },
  {
   "cell_type": "code",
   "execution_count": 7,
   "metadata": {},
   "outputs": [
    {
     "name": "stdout",
     "output_type": "stream",
     "text": [
      "Total rows: 284\n",
      "Total unique ids: 173\n"
     ]
    }
   ],
   "source": [
    "print(\"Total rows:\", len(blast_results))\n",
    "print(\"Total unique ids:\", len(blast_results.Accession.unique()))"
   ]
  },
  {
   "cell_type": "code",
   "execution_count": 8,
   "metadata": {},
   "outputs": [],
   "source": [
    "seqs_with_ids = blast_results.loc[:, [\"Accession\", \"Sequence\", \"Gene names\", \"Organism\", \"Organism ID\",\n",
    "                                      \"Protein names\", \"Taxonomic lineage IDs\"]]"
   ]
  },
  {
   "cell_type": "code",
   "execution_count": 9,
   "metadata": {},
   "outputs": [],
   "source": [
    "seqs_with_ids = seqs_with_ids.drop_duplicates()"
   ]
  },
  {
   "cell_type": "code",
   "execution_count": 10,
   "metadata": {},
   "outputs": [
    {
     "data": {
      "text/html": [
       "<div>\n",
       "<style scoped>\n",
       "    .dataframe tbody tr th:only-of-type {\n",
       "        vertical-align: middle;\n",
       "    }\n",
       "\n",
       "    .dataframe tbody tr th {\n",
       "        vertical-align: top;\n",
       "    }\n",
       "\n",
       "    .dataframe thead th {\n",
       "        text-align: right;\n",
       "    }\n",
       "</style>\n",
       "<table border=\"1\" class=\"dataframe\">\n",
       "  <thead>\n",
       "    <tr style=\"text-align: right;\">\n",
       "      <th></th>\n",
       "      <th>Accession</th>\n",
       "      <th>Sequence</th>\n",
       "      <th>Gene names</th>\n",
       "      <th>Organism</th>\n",
       "      <th>Organism ID</th>\n",
       "      <th>Protein names</th>\n",
       "      <th>Taxonomic lineage IDs</th>\n",
       "    </tr>\n",
       "  </thead>\n",
       "  <tbody>\n",
       "    <tr>\n",
       "      <th>P0CAB3</th>\n",
       "      <td>P0CAB3</td>\n",
       "      <td>MEEVITIAQIVHRGTDILSLNNEEIEALVDEIYSTLKGSNDIKNIR...</td>\n",
       "      <td>Ken-072</td>\n",
       "      <td>African swine fever virus (isolate Pig/Kenya/K...</td>\n",
       "      <td>561445</td>\n",
       "      <td>Uncharacterized protein M1249L (pM1249L)</td>\n",
       "      <td>561445</td>\n",
       "    </tr>\n",
       "    <tr>\n",
       "      <th>A0A0C5AWP7</th>\n",
       "      <td>A0A0C5AWP7</td>\n",
       "      <td>MEEVITIAQIVHRGTDILSLNNEEIEALVDEIYSTLKGSNDIKNIR...</td>\n",
       "      <td>BA71V-M1249L</td>\n",
       "      <td>African swine fever virus (ASFV)</td>\n",
       "      <td>10497</td>\n",
       "      <td>BA71V-M1249L</td>\n",
       "      <td>10497</td>\n",
       "    </tr>\n",
       "    <tr>\n",
       "      <th>A0A2Z5DFV5</th>\n",
       "      <td>A0A2Z5DFV5</td>\n",
       "      <td>MEEVITIAQIVHRGTDILSLNNEEIEALVDEIYSTLKGSNDIKNIR...</td>\n",
       "      <td>M1249L</td>\n",
       "      <td>African swine fever virus (ASFV)</td>\n",
       "      <td>10497</td>\n",
       "      <td>PM1249L</td>\n",
       "      <td>10497</td>\n",
       "    </tr>\n",
       "    <tr>\n",
       "      <th>A0A2Z5DGI2</th>\n",
       "      <td>A0A2Z5DGI2</td>\n",
       "      <td>MEEVITIAQIVHRGTDILSLNNEEIEALVDEIYSTLKGSNDIKNIR...</td>\n",
       "      <td>M1249L</td>\n",
       "      <td>African swine fever virus (ASFV)</td>\n",
       "      <td>10497</td>\n",
       "      <td>PM1249L</td>\n",
       "      <td>10497</td>\n",
       "    </tr>\n",
       "    <tr>\n",
       "      <th>A0A0C5AWA9</th>\n",
       "      <td>A0A0C5AWA9</td>\n",
       "      <td>MEEVITIAQIVHRGTDILSLNNEEIEALVDEIYSTLKGSNDIKNIR...</td>\n",
       "      <td>BA71V-M1249L</td>\n",
       "      <td>African swine fever virus (ASFV)</td>\n",
       "      <td>10497</td>\n",
       "      <td>BA71V-M1249L</td>\n",
       "      <td>10497</td>\n",
       "    </tr>\n",
       "  </tbody>\n",
       "</table>\n",
       "</div>"
      ],
      "text/plain": [
       "             Accession                                           Sequence  \\\n",
       "P0CAB3          P0CAB3  MEEVITIAQIVHRGTDILSLNNEEIEALVDEIYSTLKGSNDIKNIR...   \n",
       "A0A0C5AWP7  A0A0C5AWP7  MEEVITIAQIVHRGTDILSLNNEEIEALVDEIYSTLKGSNDIKNIR...   \n",
       "A0A2Z5DFV5  A0A2Z5DFV5  MEEVITIAQIVHRGTDILSLNNEEIEALVDEIYSTLKGSNDIKNIR...   \n",
       "A0A2Z5DGI2  A0A2Z5DGI2  MEEVITIAQIVHRGTDILSLNNEEIEALVDEIYSTLKGSNDIKNIR...   \n",
       "A0A0C5AWA9  A0A0C5AWA9  MEEVITIAQIVHRGTDILSLNNEEIEALVDEIYSTLKGSNDIKNIR...   \n",
       "\n",
       "              Gene names                                           Organism  \\\n",
       "P0CAB3           Ken-072  African swine fever virus (isolate Pig/Kenya/K...   \n",
       "A0A0C5AWP7  BA71V-M1249L                   African swine fever virus (ASFV)   \n",
       "A0A2Z5DFV5        M1249L                   African swine fever virus (ASFV)   \n",
       "A0A2Z5DGI2        M1249L                   African swine fever virus (ASFV)   \n",
       "A0A0C5AWA9  BA71V-M1249L                   African swine fever virus (ASFV)   \n",
       "\n",
       "            Organism ID                             Protein names  \\\n",
       "P0CAB3           561445  Uncharacterized protein M1249L (pM1249L)   \n",
       "A0A0C5AWP7        10497                              BA71V-M1249L   \n",
       "A0A2Z5DFV5        10497                                   PM1249L   \n",
       "A0A2Z5DGI2        10497                                   PM1249L   \n",
       "A0A0C5AWA9        10497                              BA71V-M1249L   \n",
       "\n",
       "            Taxonomic lineage IDs  \n",
       "P0CAB3                     561445  \n",
       "A0A0C5AWP7                  10497  \n",
       "A0A2Z5DFV5                  10497  \n",
       "A0A2Z5DGI2                  10497  \n",
       "A0A0C5AWA9                  10497  "
      ]
     },
     "execution_count": 10,
     "metadata": {},
     "output_type": "execute_result"
    }
   ],
   "source": [
    "seqs_with_ids.head()"
   ]
  },
  {
   "cell_type": "code",
   "execution_count": 11,
   "metadata": {},
   "outputs": [],
   "source": [
    "unique_id = seqs_with_ids[\"Organism\"] + \"|\" + seqs_with_ids[\"Gene names\"] + \"|\" + seqs_with_ids[\"Accession\"]"
   ]
  },
  {
   "cell_type": "code",
   "execution_count": 12,
   "metadata": {},
   "outputs": [],
   "source": [
    "unique_id = unique_id.str.replace(\" \", \"_\")"
   ]
  },
  {
   "cell_type": "code",
   "execution_count": 13,
   "metadata": {},
   "outputs": [],
   "source": [
    "seqs_with_ids[\"unique_id\"] = unique_id"
   ]
  },
  {
   "cell_type": "markdown",
   "metadata": {},
   "source": [
    "## Write csv"
   ]
  },
  {
   "cell_type": "code",
   "execution_count": 14,
   "metadata": {},
   "outputs": [],
   "source": [
    "seqs_with_ids.to_csv(\"unique_sequences.csv\", index=False)"
   ]
  },
  {
   "cell_type": "markdown",
   "metadata": {},
   "source": [
    "## Convert csv to fasta"
   ]
  },
  {
   "cell_type": "code",
   "execution_count": 12,
   "metadata": {},
   "outputs": [
    {
     "name": "stdout",
     "output_type": "stream",
     "text": [
      "Usage: csv_to_fasta.py [OPTIONS] CSVFILE IDCOL SEQCOL\n",
      "\n",
      "Options:\n",
      "  --version          Show the version and exit.\n",
      "  -f, --fafile TEXT\n",
      "  -d, --descol TEXT\n",
      "  --help             Show this message and exit.\n"
     ]
    }
   ],
   "source": [
    "%%bash\n",
    "python csv_to_fasta.py --help"
   ]
  },
  {
   "cell_type": "code",
   "execution_count": 51,
   "metadata": {},
   "outputs": [],
   "source": [
    "%%bash\n",
    "python csv_to_fasta.py -f unique-sequences.fa \\\n",
    "    unique_sequences.csv unique_id Sequence"
   ]
  },
  {
   "cell_type": "code",
   "execution_count": 15,
   "metadata": {},
   "outputs": [
    {
     "name": "stderr",
     "output_type": "stream",
     "text": [
      "Traceback (most recent call last):\n",
      "  File \"csv_to_fasta.py\", line 4, in <module>\n",
      "    import click\n",
      "ModuleNotFoundError: No module named 'click'\n"
     ]
    },
    {
     "ename": "CalledProcessError",
     "evalue": "Command 'b'python csv_to_fasta.py -f unique-sequences-by-accession.fa \\\\\\n    unique_sequences.csv Accession Sequence\\n'' returned non-zero exit status 1.",
     "output_type": "error",
     "traceback": [
      "\u001b[0;31m---------------------------------------------------------------------------\u001b[0m",
      "\u001b[0;31mCalledProcessError\u001b[0m                        Traceback (most recent call last)",
      "\u001b[0;32m<ipython-input-15-37c0e6d7da32>\u001b[0m in \u001b[0;36m<module>\u001b[0;34m\u001b[0m\n\u001b[0;32m----> 1\u001b[0;31m \u001b[0mget_ipython\u001b[0m\u001b[0;34m(\u001b[0m\u001b[0;34m)\u001b[0m\u001b[0;34m.\u001b[0m\u001b[0mrun_cell_magic\u001b[0m\u001b[0;34m(\u001b[0m\u001b[0;34m'bash'\u001b[0m\u001b[0;34m,\u001b[0m \u001b[0;34m''\u001b[0m\u001b[0;34m,\u001b[0m \u001b[0;34m'python csv_to_fasta.py -f unique-sequences-by-accession.fa \\\\\\n    unique_sequences.csv Accession Sequence\\n'\u001b[0m\u001b[0;34m)\u001b[0m\u001b[0;34m\u001b[0m\u001b[0;34m\u001b[0m\u001b[0m\n\u001b[0m",
      "\u001b[0;32m~/miniconda3/lib/python3.7/site-packages/IPython/core/interactiveshell.py\u001b[0m in \u001b[0;36mrun_cell_magic\u001b[0;34m(self, magic_name, line, cell)\u001b[0m\n\u001b[1;32m   2360\u001b[0m             \u001b[0;32mwith\u001b[0m \u001b[0mself\u001b[0m\u001b[0;34m.\u001b[0m\u001b[0mbuiltin_trap\u001b[0m\u001b[0;34m:\u001b[0m\u001b[0;34m\u001b[0m\u001b[0;34m\u001b[0m\u001b[0m\n\u001b[1;32m   2361\u001b[0m                 \u001b[0margs\u001b[0m \u001b[0;34m=\u001b[0m \u001b[0;34m(\u001b[0m\u001b[0mmagic_arg_s\u001b[0m\u001b[0;34m,\u001b[0m \u001b[0mcell\u001b[0m\u001b[0;34m)\u001b[0m\u001b[0;34m\u001b[0m\u001b[0;34m\u001b[0m\u001b[0m\n\u001b[0;32m-> 2362\u001b[0;31m                 \u001b[0mresult\u001b[0m \u001b[0;34m=\u001b[0m \u001b[0mfn\u001b[0m\u001b[0;34m(\u001b[0m\u001b[0;34m*\u001b[0m\u001b[0margs\u001b[0m\u001b[0;34m,\u001b[0m \u001b[0;34m**\u001b[0m\u001b[0mkwargs\u001b[0m\u001b[0;34m)\u001b[0m\u001b[0;34m\u001b[0m\u001b[0;34m\u001b[0m\u001b[0m\n\u001b[0m\u001b[1;32m   2363\u001b[0m             \u001b[0;32mreturn\u001b[0m \u001b[0mresult\u001b[0m\u001b[0;34m\u001b[0m\u001b[0;34m\u001b[0m\u001b[0m\n\u001b[1;32m   2364\u001b[0m \u001b[0;34m\u001b[0m\u001b[0m\n",
      "\u001b[0;32m~/miniconda3/lib/python3.7/site-packages/IPython/core/magics/script.py\u001b[0m in \u001b[0;36mnamed_script_magic\u001b[0;34m(line, cell)\u001b[0m\n\u001b[1;32m    140\u001b[0m             \u001b[0;32melse\u001b[0m\u001b[0;34m:\u001b[0m\u001b[0;34m\u001b[0m\u001b[0;34m\u001b[0m\u001b[0m\n\u001b[1;32m    141\u001b[0m                 \u001b[0mline\u001b[0m \u001b[0;34m=\u001b[0m \u001b[0mscript\u001b[0m\u001b[0;34m\u001b[0m\u001b[0;34m\u001b[0m\u001b[0m\n\u001b[0;32m--> 142\u001b[0;31m             \u001b[0;32mreturn\u001b[0m \u001b[0mself\u001b[0m\u001b[0;34m.\u001b[0m\u001b[0mshebang\u001b[0m\u001b[0;34m(\u001b[0m\u001b[0mline\u001b[0m\u001b[0;34m,\u001b[0m \u001b[0mcell\u001b[0m\u001b[0;34m)\u001b[0m\u001b[0;34m\u001b[0m\u001b[0;34m\u001b[0m\u001b[0m\n\u001b[0m\u001b[1;32m    143\u001b[0m \u001b[0;34m\u001b[0m\u001b[0m\n\u001b[1;32m    144\u001b[0m         \u001b[0;31m# write a basic docstring:\u001b[0m\u001b[0;34m\u001b[0m\u001b[0;34m\u001b[0m\u001b[0;34m\u001b[0m\u001b[0m\n",
      "\u001b[0;32m</home/ravila/miniconda3/lib/python3.7/site-packages/decorator.py:decorator-gen-110>\u001b[0m in \u001b[0;36mshebang\u001b[0;34m(self, line, cell)\u001b[0m\n",
      "\u001b[0;32m~/miniconda3/lib/python3.7/site-packages/IPython/core/magic.py\u001b[0m in \u001b[0;36m<lambda>\u001b[0;34m(f, *a, **k)\u001b[0m\n\u001b[1;32m    185\u001b[0m     \u001b[0;31m# but it's overkill for just that one bit of state.\u001b[0m\u001b[0;34m\u001b[0m\u001b[0;34m\u001b[0m\u001b[0;34m\u001b[0m\u001b[0m\n\u001b[1;32m    186\u001b[0m     \u001b[0;32mdef\u001b[0m \u001b[0mmagic_deco\u001b[0m\u001b[0;34m(\u001b[0m\u001b[0marg\u001b[0m\u001b[0;34m)\u001b[0m\u001b[0;34m:\u001b[0m\u001b[0;34m\u001b[0m\u001b[0;34m\u001b[0m\u001b[0m\n\u001b[0;32m--> 187\u001b[0;31m         \u001b[0mcall\u001b[0m \u001b[0;34m=\u001b[0m \u001b[0;32mlambda\u001b[0m \u001b[0mf\u001b[0m\u001b[0;34m,\u001b[0m \u001b[0;34m*\u001b[0m\u001b[0ma\u001b[0m\u001b[0;34m,\u001b[0m \u001b[0;34m**\u001b[0m\u001b[0mk\u001b[0m\u001b[0;34m:\u001b[0m \u001b[0mf\u001b[0m\u001b[0;34m(\u001b[0m\u001b[0;34m*\u001b[0m\u001b[0ma\u001b[0m\u001b[0;34m,\u001b[0m \u001b[0;34m**\u001b[0m\u001b[0mk\u001b[0m\u001b[0;34m)\u001b[0m\u001b[0;34m\u001b[0m\u001b[0;34m\u001b[0m\u001b[0m\n\u001b[0m\u001b[1;32m    188\u001b[0m \u001b[0;34m\u001b[0m\u001b[0m\n\u001b[1;32m    189\u001b[0m         \u001b[0;32mif\u001b[0m \u001b[0mcallable\u001b[0m\u001b[0;34m(\u001b[0m\u001b[0marg\u001b[0m\u001b[0;34m)\u001b[0m\u001b[0;34m:\u001b[0m\u001b[0;34m\u001b[0m\u001b[0;34m\u001b[0m\u001b[0m\n",
      "\u001b[0;32m~/miniconda3/lib/python3.7/site-packages/IPython/core/magics/script.py\u001b[0m in \u001b[0;36mshebang\u001b[0;34m(self, line, cell)\u001b[0m\n\u001b[1;32m    243\u001b[0m             \u001b[0msys\u001b[0m\u001b[0;34m.\u001b[0m\u001b[0mstderr\u001b[0m\u001b[0;34m.\u001b[0m\u001b[0mflush\u001b[0m\u001b[0;34m(\u001b[0m\u001b[0;34m)\u001b[0m\u001b[0;34m\u001b[0m\u001b[0;34m\u001b[0m\u001b[0m\n\u001b[1;32m    244\u001b[0m         \u001b[0;32mif\u001b[0m \u001b[0margs\u001b[0m\u001b[0;34m.\u001b[0m\u001b[0mraise_error\u001b[0m \u001b[0;32mand\u001b[0m \u001b[0mp\u001b[0m\u001b[0;34m.\u001b[0m\u001b[0mreturncode\u001b[0m\u001b[0;34m!=\u001b[0m\u001b[0;36m0\u001b[0m\u001b[0;34m:\u001b[0m\u001b[0;34m\u001b[0m\u001b[0;34m\u001b[0m\u001b[0m\n\u001b[0;32m--> 245\u001b[0;31m             \u001b[0;32mraise\u001b[0m \u001b[0mCalledProcessError\u001b[0m\u001b[0;34m(\u001b[0m\u001b[0mp\u001b[0m\u001b[0;34m.\u001b[0m\u001b[0mreturncode\u001b[0m\u001b[0;34m,\u001b[0m \u001b[0mcell\u001b[0m\u001b[0;34m,\u001b[0m \u001b[0moutput\u001b[0m\u001b[0;34m=\u001b[0m\u001b[0mout\u001b[0m\u001b[0;34m,\u001b[0m \u001b[0mstderr\u001b[0m\u001b[0;34m=\u001b[0m\u001b[0merr\u001b[0m\u001b[0;34m)\u001b[0m\u001b[0;34m\u001b[0m\u001b[0;34m\u001b[0m\u001b[0m\n\u001b[0m\u001b[1;32m    246\u001b[0m \u001b[0;34m\u001b[0m\u001b[0m\n\u001b[1;32m    247\u001b[0m     \u001b[0;32mdef\u001b[0m \u001b[0m_run_script\u001b[0m\u001b[0;34m(\u001b[0m\u001b[0mself\u001b[0m\u001b[0;34m,\u001b[0m \u001b[0mp\u001b[0m\u001b[0;34m,\u001b[0m \u001b[0mcell\u001b[0m\u001b[0;34m,\u001b[0m \u001b[0mto_close\u001b[0m\u001b[0;34m)\u001b[0m\u001b[0;34m:\u001b[0m\u001b[0;34m\u001b[0m\u001b[0;34m\u001b[0m\u001b[0m\n",
      "\u001b[0;31mCalledProcessError\u001b[0m: Command 'b'python csv_to_fasta.py -f unique-sequences-by-accession.fa \\\\\\n    unique_sequences.csv Accession Sequence\\n'' returned non-zero exit status 1."
     ]
    }
   ],
   "source": [
    "%%bash\n",
    "python csv_to_fasta.py -f unique-sequences-by-accession.fa \\\n",
    "    unique_sequences.csv Accession Sequence"
   ]
  },
  {
   "cell_type": "code",
   "execution_count": null,
   "metadata": {},
   "outputs": [],
   "source": []
  }
 ],
 "metadata": {
  "kernelspec": {
   "display_name": "Python 3",
   "language": "python",
   "name": "python3"
  },
  "language_info": {
   "codemirror_mode": {
    "name": "ipython",
    "version": 3
   },
   "file_extension": ".py",
   "mimetype": "text/x-python",
   "name": "python",
   "nbconvert_exporter": "python",
   "pygments_lexer": "ipython3",
   "version": "3.7.4"
  }
 },
 "nbformat": 4,
 "nbformat_minor": 4
}
