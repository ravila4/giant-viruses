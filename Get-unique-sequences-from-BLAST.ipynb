{
 "cells": [
  {
   "cell_type": "markdown",
   "metadata": {},
   "source": [
    "# Extracting Sequences from BLAST Outputs"
   ]
  },
  {
   "cell_type": "code",
   "execution_count": 1,
   "metadata": {},
   "outputs": [],
   "source": [
    "import pandas as pd\n",
    "import glob"
   ]
  },
  {
   "cell_type": "markdown",
   "metadata": {},
   "source": [
    "## Read tab-delimited BLAST output and concatenate"
   ]
  },
  {
   "cell_type": "code",
   "execution_count": 2,
   "metadata": {},
   "outputs": [
    {
     "name": "stdout",
     "output_type": "stream",
     "text": [
      "Found: BLAST-tabs/PBCV-1-tape-protien-blastp-against-virus-0.01evalue-1.tab\n",
      "Found: BLAST-tabs/CroV-tape-protien-blastp-against-virus-0.01evalue-1.tab\n",
      "Found: BLAST-tabs/Faustovirus-tape-protien-blastp-against-virus-0.01evalue-1.tab\n",
      "Found: BLAST-tabs/Mimivirus-tape-protien-blastp-against-virus-0.01evalue-1.tab\n",
      "Found: BLAST-tabs/AFSV-tape-protien-blastp-against-virus-0.01evalue-1.tab\n"
     ]
    }
   ],
   "source": [
    "blast_results = pd.DataFrame()\n",
    "\n",
    "for tab in glob.glob(\"BLAST-tabs/*.tab\"):\n",
    "    print(\"Found:\", tab)\n",
    "    blast_results = blast_results.append(pd.read_csv(tab, sep='\\t'))"
   ]
  },
  {
   "cell_type": "code",
   "execution_count": 3,
   "metadata": {},
   "outputs": [
    {
     "data": {
      "text/html": [
       "<div>\n",
       "<style scoped>\n",
       "    .dataframe tbody tr th:only-of-type {\n",
       "        vertical-align: middle;\n",
       "    }\n",
       "\n",
       "    .dataframe tbody tr th {\n",
       "        vertical-align: top;\n",
       "    }\n",
       "\n",
       "    .dataframe thead th {\n",
       "        text-align: right;\n",
       "    }\n",
       "</style>\n",
       "<table border=\"1\" class=\"dataframe\">\n",
       "  <thead>\n",
       "    <tr style=\"text-align: right;\">\n",
       "      <th></th>\n",
       "      <th>Entry</th>\n",
       "      <th>Info</th>\n",
       "      <th>Unnamed: 2</th>\n",
       "      <th>Unnamed: 3</th>\n",
       "      <th>Gene names</th>\n",
       "      <th>Organism</th>\n",
       "      <th>Organism ID</th>\n",
       "      <th>Protein names</th>\n",
       "      <th>Taxonomic lineage IDs</th>\n",
       "      <th>Sequence</th>\n",
       "    </tr>\n",
       "  </thead>\n",
       "  <tbody>\n",
       "    <tr>\n",
       "      <th>Q84656</th>\n",
       "      <td>E-value: 0.0;</td>\n",
       "      <td>Score: 3,060;</td>\n",
       "      <td>Ident.: 100.0%</td>\n",
       "      <td>NaN</td>\n",
       "      <td>A342L</td>\n",
       "      <td>Paramecium bursaria Chlorella virus 1 (PBCV-1)</td>\n",
       "      <td>10506</td>\n",
       "      <td>Uncharacterized protein</td>\n",
       "      <td>10506</td>\n",
       "      <td>MCNTYYKRVKFNLFLYTNSIEMELLAVASIIGYGLFSSQQGRETRP...</td>\n",
       "    </tr>\n",
       "    <tr>\n",
       "      <th>M1I204</th>\n",
       "      <td>E-value: 0.0;</td>\n",
       "      <td>Score: 2,923;</td>\n",
       "      <td>Ident.: 99.1%</td>\n",
       "      <td>NaN</td>\n",
       "      <td>CvsA1_388L PBCVCvsA1_388L</td>\n",
       "      <td>Paramecium bursaria Chlorella virus CvsA1</td>\n",
       "      <td>1278254</td>\n",
       "      <td>Uncharacterized protein</td>\n",
       "      <td>1278254</td>\n",
       "      <td>MELLAVASIIGYGLFSSQQGRETRPDRNRYAEALGSGQGLDEDYDV...</td>\n",
       "    </tr>\n",
       "    <tr>\n",
       "      <th>M1H8N0</th>\n",
       "      <td>E-value: 0.0;</td>\n",
       "      <td>Score: 2,923;</td>\n",
       "      <td>Ident.: 99.1%</td>\n",
       "      <td>NaN</td>\n",
       "      <td>MA-1E_415L PBCVMA1E_415L</td>\n",
       "      <td>Paramecium bursaria Chlorella virus MA-1E</td>\n",
       "      <td>1278260</td>\n",
       "      <td>Uncharacterized protein</td>\n",
       "      <td>1278260</td>\n",
       "      <td>MELLAVASIIGYGLFSSQQGRETRPDRNRYAEALGSGQGLDEDYDV...</td>\n",
       "    </tr>\n",
       "    <tr>\n",
       "      <th>M1HYV5</th>\n",
       "      <td>E-value: 0.0;</td>\n",
       "      <td>Score: 2,923;</td>\n",
       "      <td>Ident.: 99.1%</td>\n",
       "      <td>NaN</td>\n",
       "      <td>CviKI_378L PBCVCviKI_378L</td>\n",
       "      <td>Paramecium bursaria Chlorella virus CviKI</td>\n",
       "      <td>1278253</td>\n",
       "      <td>Uncharacterized protein</td>\n",
       "      <td>1278253</td>\n",
       "      <td>MELLAVASIIGYGLFSSQQGRETRPDRNRYAEALGSGQGLDEDYDV...</td>\n",
       "    </tr>\n",
       "    <tr>\n",
       "      <th>M1HWS0</th>\n",
       "      <td>E-value: 0.0;</td>\n",
       "      <td>Score: 2,919;</td>\n",
       "      <td>Ident.: 98.9%</td>\n",
       "      <td>NaN</td>\n",
       "      <td>KS1B_324L PBCVKS1B_324L</td>\n",
       "      <td>Paramecium bursaria Chlorella virus KS1B</td>\n",
       "      <td>1278258</td>\n",
       "      <td>Uncharacterized protein</td>\n",
       "      <td>1278258</td>\n",
       "      <td>MELLAVASIIGYGLFSSQQGRETRPDRNRYAEALGSGQGLDEDYDV...</td>\n",
       "    </tr>\n",
       "  </tbody>\n",
       "</table>\n",
       "</div>"
      ],
      "text/plain": [
       "                Entry           Info      Unnamed: 2  Unnamed: 3  \\\n",
       "Q84656  E-value: 0.0;  Score: 3,060;  Ident.: 100.0%         NaN   \n",
       "M1I204  E-value: 0.0;  Score: 2,923;   Ident.: 99.1%         NaN   \n",
       "M1H8N0  E-value: 0.0;  Score: 2,923;   Ident.: 99.1%         NaN   \n",
       "M1HYV5  E-value: 0.0;  Score: 2,923;   Ident.: 99.1%         NaN   \n",
       "M1HWS0  E-value: 0.0;  Score: 2,919;   Ident.: 98.9%         NaN   \n",
       "\n",
       "                       Gene names  \\\n",
       "Q84656                      A342L   \n",
       "M1I204  CvsA1_388L PBCVCvsA1_388L   \n",
       "M1H8N0   MA-1E_415L PBCVMA1E_415L   \n",
       "M1HYV5  CviKI_378L PBCVCviKI_378L   \n",
       "M1HWS0    KS1B_324L PBCVKS1B_324L   \n",
       "\n",
       "                                              Organism  Organism ID  \\\n",
       "Q84656  Paramecium bursaria Chlorella virus 1 (PBCV-1)        10506   \n",
       "M1I204       Paramecium bursaria Chlorella virus CvsA1      1278254   \n",
       "M1H8N0       Paramecium bursaria Chlorella virus MA-1E      1278260   \n",
       "M1HYV5       Paramecium bursaria Chlorella virus CviKI      1278253   \n",
       "M1HWS0        Paramecium bursaria Chlorella virus KS1B      1278258   \n",
       "\n",
       "                  Protein names  Taxonomic lineage IDs  \\\n",
       "Q84656  Uncharacterized protein                  10506   \n",
       "M1I204  Uncharacterized protein                1278254   \n",
       "M1H8N0  Uncharacterized protein                1278260   \n",
       "M1HYV5  Uncharacterized protein                1278253   \n",
       "M1HWS0  Uncharacterized protein                1278258   \n",
       "\n",
       "                                                 Sequence  \n",
       "Q84656  MCNTYYKRVKFNLFLYTNSIEMELLAVASIIGYGLFSSQQGRETRP...  \n",
       "M1I204  MELLAVASIIGYGLFSSQQGRETRPDRNRYAEALGSGQGLDEDYDV...  \n",
       "M1H8N0  MELLAVASIIGYGLFSSQQGRETRPDRNRYAEALGSGQGLDEDYDV...  \n",
       "M1HYV5  MELLAVASIIGYGLFSSQQGRETRPDRNRYAEALGSGQGLDEDYDV...  \n",
       "M1HWS0  MELLAVASIIGYGLFSSQQGRETRPDRNRYAEALGSGQGLDEDYDV...  "
      ]
     },
     "execution_count": 3,
     "metadata": {},
     "output_type": "execute_result"
    }
   ],
   "source": [
    "blast_results.head()"
   ]
  },
  {
   "cell_type": "markdown",
   "metadata": {},
   "source": [
    "## Fix the table\n",
    "There is an empty column, and the column some column names are wrong..."
   ]
  },
  {
   "cell_type": "code",
   "execution_count": 4,
   "metadata": {},
   "outputs": [],
   "source": [
    "del blast_results['Unnamed: 3']\n",
    "blast_results = blast_results.rename(columns = {'Entry': 'E-value',\n",
    "                                                'Info': 'Score',\n",
    "                                                'Unnamed: 2': 'Identity'})"
   ]
  },
  {
   "cell_type": "code",
   "execution_count": 5,
   "metadata": {},
   "outputs": [],
   "source": [
    "blast_results['Accession'] = blast_results.index"
   ]
  },
  {
   "cell_type": "code",
   "execution_count": 6,
   "metadata": {},
   "outputs": [
    {
     "data": {
      "text/html": [
       "<div>\n",
       "<style scoped>\n",
       "    .dataframe tbody tr th:only-of-type {\n",
       "        vertical-align: middle;\n",
       "    }\n",
       "\n",
       "    .dataframe tbody tr th {\n",
       "        vertical-align: top;\n",
       "    }\n",
       "\n",
       "    .dataframe thead th {\n",
       "        text-align: right;\n",
       "    }\n",
       "</style>\n",
       "<table border=\"1\" class=\"dataframe\">\n",
       "  <thead>\n",
       "    <tr style=\"text-align: right;\">\n",
       "      <th></th>\n",
       "      <th>E-value</th>\n",
       "      <th>Score</th>\n",
       "      <th>Identity</th>\n",
       "      <th>Gene names</th>\n",
       "      <th>Organism</th>\n",
       "      <th>Organism ID</th>\n",
       "      <th>Protein names</th>\n",
       "      <th>Taxonomic lineage IDs</th>\n",
       "      <th>Sequence</th>\n",
       "      <th>Accession</th>\n",
       "    </tr>\n",
       "  </thead>\n",
       "  <tbody>\n",
       "    <tr>\n",
       "      <th>Q84656</th>\n",
       "      <td>E-value: 0.0;</td>\n",
       "      <td>Score: 3,060;</td>\n",
       "      <td>Ident.: 100.0%</td>\n",
       "      <td>A342L</td>\n",
       "      <td>Paramecium bursaria Chlorella virus 1 (PBCV-1)</td>\n",
       "      <td>10506</td>\n",
       "      <td>Uncharacterized protein</td>\n",
       "      <td>10506</td>\n",
       "      <td>MCNTYYKRVKFNLFLYTNSIEMELLAVASIIGYGLFSSQQGRETRP...</td>\n",
       "      <td>Q84656</td>\n",
       "    </tr>\n",
       "    <tr>\n",
       "      <th>M1I204</th>\n",
       "      <td>E-value: 0.0;</td>\n",
       "      <td>Score: 2,923;</td>\n",
       "      <td>Ident.: 99.1%</td>\n",
       "      <td>CvsA1_388L PBCVCvsA1_388L</td>\n",
       "      <td>Paramecium bursaria Chlorella virus CvsA1</td>\n",
       "      <td>1278254</td>\n",
       "      <td>Uncharacterized protein</td>\n",
       "      <td>1278254</td>\n",
       "      <td>MELLAVASIIGYGLFSSQQGRETRPDRNRYAEALGSGQGLDEDYDV...</td>\n",
       "      <td>M1I204</td>\n",
       "    </tr>\n",
       "    <tr>\n",
       "      <th>M1H8N0</th>\n",
       "      <td>E-value: 0.0;</td>\n",
       "      <td>Score: 2,923;</td>\n",
       "      <td>Ident.: 99.1%</td>\n",
       "      <td>MA-1E_415L PBCVMA1E_415L</td>\n",
       "      <td>Paramecium bursaria Chlorella virus MA-1E</td>\n",
       "      <td>1278260</td>\n",
       "      <td>Uncharacterized protein</td>\n",
       "      <td>1278260</td>\n",
       "      <td>MELLAVASIIGYGLFSSQQGRETRPDRNRYAEALGSGQGLDEDYDV...</td>\n",
       "      <td>M1H8N0</td>\n",
       "    </tr>\n",
       "    <tr>\n",
       "      <th>M1HYV5</th>\n",
       "      <td>E-value: 0.0;</td>\n",
       "      <td>Score: 2,923;</td>\n",
       "      <td>Ident.: 99.1%</td>\n",
       "      <td>CviKI_378L PBCVCviKI_378L</td>\n",
       "      <td>Paramecium bursaria Chlorella virus CviKI</td>\n",
       "      <td>1278253</td>\n",
       "      <td>Uncharacterized protein</td>\n",
       "      <td>1278253</td>\n",
       "      <td>MELLAVASIIGYGLFSSQQGRETRPDRNRYAEALGSGQGLDEDYDV...</td>\n",
       "      <td>M1HYV5</td>\n",
       "    </tr>\n",
       "    <tr>\n",
       "      <th>M1HWS0</th>\n",
       "      <td>E-value: 0.0;</td>\n",
       "      <td>Score: 2,919;</td>\n",
       "      <td>Ident.: 98.9%</td>\n",
       "      <td>KS1B_324L PBCVKS1B_324L</td>\n",
       "      <td>Paramecium bursaria Chlorella virus KS1B</td>\n",
       "      <td>1278258</td>\n",
       "      <td>Uncharacterized protein</td>\n",
       "      <td>1278258</td>\n",
       "      <td>MELLAVASIIGYGLFSSQQGRETRPDRNRYAEALGSGQGLDEDYDV...</td>\n",
       "      <td>M1HWS0</td>\n",
       "    </tr>\n",
       "  </tbody>\n",
       "</table>\n",
       "</div>"
      ],
      "text/plain": [
       "              E-value          Score        Identity  \\\n",
       "Q84656  E-value: 0.0;  Score: 3,060;  Ident.: 100.0%   \n",
       "M1I204  E-value: 0.0;  Score: 2,923;   Ident.: 99.1%   \n",
       "M1H8N0  E-value: 0.0;  Score: 2,923;   Ident.: 99.1%   \n",
       "M1HYV5  E-value: 0.0;  Score: 2,923;   Ident.: 99.1%   \n",
       "M1HWS0  E-value: 0.0;  Score: 2,919;   Ident.: 98.9%   \n",
       "\n",
       "                       Gene names  \\\n",
       "Q84656                      A342L   \n",
       "M1I204  CvsA1_388L PBCVCvsA1_388L   \n",
       "M1H8N0   MA-1E_415L PBCVMA1E_415L   \n",
       "M1HYV5  CviKI_378L PBCVCviKI_378L   \n",
       "M1HWS0    KS1B_324L PBCVKS1B_324L   \n",
       "\n",
       "                                              Organism  Organism ID  \\\n",
       "Q84656  Paramecium bursaria Chlorella virus 1 (PBCV-1)        10506   \n",
       "M1I204       Paramecium bursaria Chlorella virus CvsA1      1278254   \n",
       "M1H8N0       Paramecium bursaria Chlorella virus MA-1E      1278260   \n",
       "M1HYV5       Paramecium bursaria Chlorella virus CviKI      1278253   \n",
       "M1HWS0        Paramecium bursaria Chlorella virus KS1B      1278258   \n",
       "\n",
       "                  Protein names  Taxonomic lineage IDs  \\\n",
       "Q84656  Uncharacterized protein                  10506   \n",
       "M1I204  Uncharacterized protein                1278254   \n",
       "M1H8N0  Uncharacterized protein                1278260   \n",
       "M1HYV5  Uncharacterized protein                1278253   \n",
       "M1HWS0  Uncharacterized protein                1278258   \n",
       "\n",
       "                                                 Sequence Accession  \n",
       "Q84656  MCNTYYKRVKFNLFLYTNSIEMELLAVASIIGYGLFSSQQGRETRP...    Q84656  \n",
       "M1I204  MELLAVASIIGYGLFSSQQGRETRPDRNRYAEALGSGQGLDEDYDV...    M1I204  \n",
       "M1H8N0  MELLAVASIIGYGLFSSQQGRETRPDRNRYAEALGSGQGLDEDYDV...    M1H8N0  \n",
       "M1HYV5  MELLAVASIIGYGLFSSQQGRETRPDRNRYAEALGSGQGLDEDYDV...    M1HYV5  \n",
       "M1HWS0  MELLAVASIIGYGLFSSQQGRETRPDRNRYAEALGSGQGLDEDYDV...    M1HWS0  "
      ]
     },
     "execution_count": 6,
     "metadata": {},
     "output_type": "execute_result"
    }
   ],
   "source": [
    "blast_results.head()"
   ]
  },
  {
   "cell_type": "markdown",
   "metadata": {},
   "source": [
    "## Remove duplicates"
   ]
  },
  {
   "cell_type": "code",
   "execution_count": 7,
   "metadata": {},
   "outputs": [
    {
     "name": "stdout",
     "output_type": "stream",
     "text": [
      "Total rows: 284\n",
      "Total unique ids: 173\n"
     ]
    }
   ],
   "source": [
    "print(\"Total rows:\", len(blast_results))\n",
    "print(\"Total unique ids:\", len(blast_results.Accession.unique()))"
   ]
  },
  {
   "cell_type": "code",
   "execution_count": 8,
   "metadata": {},
   "outputs": [],
   "source": [
    "seqs_with_ids = blast_results.loc[:, [\"Accession\", \"Sequence\", \"Gene names\", \"Organism\", \"Organism ID\",\n",
    "                                      \"Protein names\", \"Taxonomic lineage IDs\"]]"
   ]
  },
  {
   "cell_type": "code",
   "execution_count": 9,
   "metadata": {},
   "outputs": [],
   "source": [
    "seqs_with_ids = seqs_with_ids.drop_duplicates()"
   ]
  },
  {
   "cell_type": "code",
   "execution_count": 10,
   "metadata": {},
   "outputs": [
    {
     "data": {
      "text/html": [
       "<div>\n",
       "<style scoped>\n",
       "    .dataframe tbody tr th:only-of-type {\n",
       "        vertical-align: middle;\n",
       "    }\n",
       "\n",
       "    .dataframe tbody tr th {\n",
       "        vertical-align: top;\n",
       "    }\n",
       "\n",
       "    .dataframe thead th {\n",
       "        text-align: right;\n",
       "    }\n",
       "</style>\n",
       "<table border=\"1\" class=\"dataframe\">\n",
       "  <thead>\n",
       "    <tr style=\"text-align: right;\">\n",
       "      <th></th>\n",
       "      <th>Accession</th>\n",
       "      <th>Sequence</th>\n",
       "      <th>Gene names</th>\n",
       "      <th>Organism</th>\n",
       "      <th>Organism ID</th>\n",
       "      <th>Protein names</th>\n",
       "      <th>Taxonomic lineage IDs</th>\n",
       "    </tr>\n",
       "  </thead>\n",
       "  <tbody>\n",
       "    <tr>\n",
       "      <th>Q84656</th>\n",
       "      <td>Q84656</td>\n",
       "      <td>MCNTYYKRVKFNLFLYTNSIEMELLAVASIIGYGLFSSQQGRETRP...</td>\n",
       "      <td>A342L</td>\n",
       "      <td>Paramecium bursaria Chlorella virus 1 (PBCV-1)</td>\n",
       "      <td>10506</td>\n",
       "      <td>Uncharacterized protein</td>\n",
       "      <td>10506</td>\n",
       "    </tr>\n",
       "    <tr>\n",
       "      <th>M1I204</th>\n",
       "      <td>M1I204</td>\n",
       "      <td>MELLAVASIIGYGLFSSQQGRETRPDRNRYAEALGSGQGLDEDYDV...</td>\n",
       "      <td>CvsA1_388L PBCVCvsA1_388L</td>\n",
       "      <td>Paramecium bursaria Chlorella virus CvsA1</td>\n",
       "      <td>1278254</td>\n",
       "      <td>Uncharacterized protein</td>\n",
       "      <td>1278254</td>\n",
       "    </tr>\n",
       "    <tr>\n",
       "      <th>M1H8N0</th>\n",
       "      <td>M1H8N0</td>\n",
       "      <td>MELLAVASIIGYGLFSSQQGRETRPDRNRYAEALGSGQGLDEDYDV...</td>\n",
       "      <td>MA-1E_415L PBCVMA1E_415L</td>\n",
       "      <td>Paramecium bursaria Chlorella virus MA-1E</td>\n",
       "      <td>1278260</td>\n",
       "      <td>Uncharacterized protein</td>\n",
       "      <td>1278260</td>\n",
       "    </tr>\n",
       "    <tr>\n",
       "      <th>M1HYV5</th>\n",
       "      <td>M1HYV5</td>\n",
       "      <td>MELLAVASIIGYGLFSSQQGRETRPDRNRYAEALGSGQGLDEDYDV...</td>\n",
       "      <td>CviKI_378L PBCVCviKI_378L</td>\n",
       "      <td>Paramecium bursaria Chlorella virus CviKI</td>\n",
       "      <td>1278253</td>\n",
       "      <td>Uncharacterized protein</td>\n",
       "      <td>1278253</td>\n",
       "    </tr>\n",
       "    <tr>\n",
       "      <th>M1HWS0</th>\n",
       "      <td>M1HWS0</td>\n",
       "      <td>MELLAVASIIGYGLFSSQQGRETRPDRNRYAEALGSGQGLDEDYDV...</td>\n",
       "      <td>KS1B_324L PBCVKS1B_324L</td>\n",
       "      <td>Paramecium bursaria Chlorella virus KS1B</td>\n",
       "      <td>1278258</td>\n",
       "      <td>Uncharacterized protein</td>\n",
       "      <td>1278258</td>\n",
       "    </tr>\n",
       "  </tbody>\n",
       "</table>\n",
       "</div>"
      ],
      "text/plain": [
       "       Accession                                           Sequence  \\\n",
       "Q84656    Q84656  MCNTYYKRVKFNLFLYTNSIEMELLAVASIIGYGLFSSQQGRETRP...   \n",
       "M1I204    M1I204  MELLAVASIIGYGLFSSQQGRETRPDRNRYAEALGSGQGLDEDYDV...   \n",
       "M1H8N0    M1H8N0  MELLAVASIIGYGLFSSQQGRETRPDRNRYAEALGSGQGLDEDYDV...   \n",
       "M1HYV5    M1HYV5  MELLAVASIIGYGLFSSQQGRETRPDRNRYAEALGSGQGLDEDYDV...   \n",
       "M1HWS0    M1HWS0  MELLAVASIIGYGLFSSQQGRETRPDRNRYAEALGSGQGLDEDYDV...   \n",
       "\n",
       "                       Gene names  \\\n",
       "Q84656                      A342L   \n",
       "M1I204  CvsA1_388L PBCVCvsA1_388L   \n",
       "M1H8N0   MA-1E_415L PBCVMA1E_415L   \n",
       "M1HYV5  CviKI_378L PBCVCviKI_378L   \n",
       "M1HWS0    KS1B_324L PBCVKS1B_324L   \n",
       "\n",
       "                                              Organism  Organism ID  \\\n",
       "Q84656  Paramecium bursaria Chlorella virus 1 (PBCV-1)        10506   \n",
       "M1I204       Paramecium bursaria Chlorella virus CvsA1      1278254   \n",
       "M1H8N0       Paramecium bursaria Chlorella virus MA-1E      1278260   \n",
       "M1HYV5       Paramecium bursaria Chlorella virus CviKI      1278253   \n",
       "M1HWS0        Paramecium bursaria Chlorella virus KS1B      1278258   \n",
       "\n",
       "                  Protein names  Taxonomic lineage IDs  \n",
       "Q84656  Uncharacterized protein                  10506  \n",
       "M1I204  Uncharacterized protein                1278254  \n",
       "M1H8N0  Uncharacterized protein                1278260  \n",
       "M1HYV5  Uncharacterized protein                1278253  \n",
       "M1HWS0  Uncharacterized protein                1278258  "
      ]
     },
     "execution_count": 10,
     "metadata": {},
     "output_type": "execute_result"
    }
   ],
   "source": [
    "seqs_with_ids.head()"
   ]
  },
  {
   "cell_type": "markdown",
   "metadata": {},
   "source": [
    "## Write csv"
   ]
  },
  {
   "cell_type": "code",
   "execution_count": 11,
   "metadata": {},
   "outputs": [],
   "source": [
    "seqs_with_ids.to_csv(\"unique_sequences.csv\", index=False)"
   ]
  },
  {
   "cell_type": "markdown",
   "metadata": {},
   "source": [
    "## Convert csv to fasta"
   ]
  },
  {
   "cell_type": "code",
   "execution_count": 12,
   "metadata": {},
   "outputs": [
    {
     "name": "stdout",
     "output_type": "stream",
     "text": [
      "Usage: csv_to_fasta.py [OPTIONS] CSVFILE IDCOL SEQCOL\n",
      "\n",
      "Options:\n",
      "  --version          Show the version and exit.\n",
      "  -f, --fafile TEXT\n",
      "  -d, --descol TEXT\n",
      "  --help             Show this message and exit.\n"
     ]
    }
   ],
   "source": [
    "%%bash\n",
    "python csv_to_fasta.py --help"
   ]
  },
  {
   "cell_type": "code",
   "execution_count": 15,
   "metadata": {},
   "outputs": [],
   "source": [
    "%%bash\n",
    "python csv_to_fasta.py -f unique-sequences.fa \\\n",
    "    -d \"Protein names\" -d \"Taxonomic lineage IDs\" \\\n",
    "    unique_sequences.csv Accession Sequence"
   ]
  },
  {
   "cell_type": "code",
   "execution_count": null,
   "metadata": {},
   "outputs": [],
   "source": []
  }
 ],
 "metadata": {
  "kernelspec": {
   "display_name": "Python 3",
   "language": "python",
   "name": "python3"
  },
  "language_info": {
   "codemirror_mode": {
    "name": "ipython",
    "version": 3
   },
   "file_extension": ".py",
   "mimetype": "text/x-python",
   "name": "python",
   "nbconvert_exporter": "python",
   "pygments_lexer": "ipython3",
   "version": "3.7.1"
  }
 },
 "nbformat": 4,
 "nbformat_minor": 2
}
