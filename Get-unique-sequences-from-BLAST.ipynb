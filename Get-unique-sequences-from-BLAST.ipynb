{
 "cells": [
  {
   "cell_type": "code",
   "execution_count": 1,
   "metadata": {},
   "outputs": [],
   "source": [
    "import pandas as pd"
   ]
  },
  {
   "cell_type": "code",
   "execution_count": 2,
   "metadata": {},
   "outputs": [],
   "source": [
    "blast_results = pd.read_csv(\"All-tape-protien-blastp-against-virus-0.01evalue.tab\", sep=\"\\t\")"
   ]
  },
  {
   "cell_type": "code",
   "execution_count": 3,
   "metadata": {},
   "outputs": [
    {
     "data": {
      "text/html": [
       "<div>\n",
       "<style scoped>\n",
       "    .dataframe tbody tr th:only-of-type {\n",
       "        vertical-align: middle;\n",
       "    }\n",
       "\n",
       "    .dataframe tbody tr th {\n",
       "        vertical-align: top;\n",
       "    }\n",
       "\n",
       "    .dataframe thead th {\n",
       "        text-align: right;\n",
       "    }\n",
       "</style>\n",
       "<table border=\"1\" class=\"dataframe\">\n",
       "  <thead>\n",
       "    <tr style=\"text-align: right;\">\n",
       "      <th></th>\n",
       "      <th>Entry</th>\n",
       "      <th>Info</th>\n",
       "      <th>Unnamed: 2</th>\n",
       "      <th>Unnamed: 3</th>\n",
       "      <th>Status</th>\n",
       "      <th>Taxonomic lineage IDs</th>\n",
       "      <th>Protein names</th>\n",
       "      <th>Sequence</th>\n",
       "    </tr>\n",
       "  </thead>\n",
       "  <tbody>\n",
       "    <tr>\n",
       "      <th>P0CAB3</th>\n",
       "      <td>E-value: 0.0;</td>\n",
       "      <td>Score: 6,490;</td>\n",
       "      <td>Ident.: 100.0%</td>\n",
       "      <td>NaN</td>\n",
       "      <td>reviewed</td>\n",
       "      <td>561445</td>\n",
       "      <td>Uncharacterized protein M1249L (pM1249L)</td>\n",
       "      <td>MEEVITIAQIVHRGTDILSLNNEEIEALVDEIYSTLKGSNDIKNIR...</td>\n",
       "    </tr>\n",
       "    <tr>\n",
       "      <th>A0A0C5AWP7</th>\n",
       "      <td>E-value: 0.0;</td>\n",
       "      <td>Score: 6,440;</td>\n",
       "      <td>Ident.: 99.0%</td>\n",
       "      <td>NaN</td>\n",
       "      <td>unreviewed</td>\n",
       "      <td>10497</td>\n",
       "      <td>BA71V-M1249L</td>\n",
       "      <td>MEEVITIAQIVHRGTDILSLNNEEIEALVDEIYSTLKGSNDIKNIR...</td>\n",
       "    </tr>\n",
       "    <tr>\n",
       "      <th>A0A2Z5DFV5</th>\n",
       "      <td>E-value: 0.0;</td>\n",
       "      <td>Score: 6,435;</td>\n",
       "      <td>Ident.: 98.9%</td>\n",
       "      <td>NaN</td>\n",
       "      <td>unreviewed</td>\n",
       "      <td>10497</td>\n",
       "      <td>PM1249L</td>\n",
       "      <td>MEEVITIAQIVHRGTDILSLNNEEIEALVDEIYSTLKGSNDIKNIR...</td>\n",
       "    </tr>\n",
       "    <tr>\n",
       "      <th>A0A2Z5DGI2</th>\n",
       "      <td>E-value: 0.0;</td>\n",
       "      <td>Score: 6,434;</td>\n",
       "      <td>Ident.: 98.9%</td>\n",
       "      <td>NaN</td>\n",
       "      <td>unreviewed</td>\n",
       "      <td>10497</td>\n",
       "      <td>PM1249L</td>\n",
       "      <td>MEEVITIAQIVHRGTDILSLNNEEIEALVDEIYSTLKGSNDIKNIR...</td>\n",
       "    </tr>\n",
       "    <tr>\n",
       "      <th>A0A0C5AWA9</th>\n",
       "      <td>E-value: 0.0;</td>\n",
       "      <td>Score: 6,403;</td>\n",
       "      <td>Ident.: 98.9%</td>\n",
       "      <td>NaN</td>\n",
       "      <td>unreviewed</td>\n",
       "      <td>10497</td>\n",
       "      <td>BA71V-M1249L</td>\n",
       "      <td>MEEVITIAQIVHRGTDILSLNNEEIEALVDEIYSTLKGSNDIKNIR...</td>\n",
       "    </tr>\n",
       "  </tbody>\n",
       "</table>\n",
       "</div>"
      ],
      "text/plain": [
       "                    Entry           Info      Unnamed: 2 Unnamed: 3  \\\n",
       "P0CAB3      E-value: 0.0;  Score: 6,490;  Ident.: 100.0%        NaN   \n",
       "A0A0C5AWP7  E-value: 0.0;  Score: 6,440;   Ident.: 99.0%        NaN   \n",
       "A0A2Z5DFV5  E-value: 0.0;  Score: 6,435;   Ident.: 98.9%        NaN   \n",
       "A0A2Z5DGI2  E-value: 0.0;  Score: 6,434;   Ident.: 98.9%        NaN   \n",
       "A0A0C5AWA9  E-value: 0.0;  Score: 6,403;   Ident.: 98.9%        NaN   \n",
       "\n",
       "                Status Taxonomic lineage IDs  \\\n",
       "P0CAB3        reviewed                561445   \n",
       "A0A0C5AWP7  unreviewed                 10497   \n",
       "A0A2Z5DFV5  unreviewed                 10497   \n",
       "A0A2Z5DGI2  unreviewed                 10497   \n",
       "A0A0C5AWA9  unreviewed                 10497   \n",
       "\n",
       "                                       Protein names  \\\n",
       "P0CAB3      Uncharacterized protein M1249L (pM1249L)   \n",
       "A0A0C5AWP7                              BA71V-M1249L   \n",
       "A0A2Z5DFV5                                   PM1249L   \n",
       "A0A2Z5DGI2                                   PM1249L   \n",
       "A0A0C5AWA9                              BA71V-M1249L   \n",
       "\n",
       "                                                     Sequence  \n",
       "P0CAB3      MEEVITIAQIVHRGTDILSLNNEEIEALVDEIYSTLKGSNDIKNIR...  \n",
       "A0A0C5AWP7  MEEVITIAQIVHRGTDILSLNNEEIEALVDEIYSTLKGSNDIKNIR...  \n",
       "A0A2Z5DFV5  MEEVITIAQIVHRGTDILSLNNEEIEALVDEIYSTLKGSNDIKNIR...  \n",
       "A0A2Z5DGI2  MEEVITIAQIVHRGTDILSLNNEEIEALVDEIYSTLKGSNDIKNIR...  \n",
       "A0A0C5AWA9  MEEVITIAQIVHRGTDILSLNNEEIEALVDEIYSTLKGSNDIKNIR...  "
      ]
     },
     "execution_count": 3,
     "metadata": {},
     "output_type": "execute_result"
    }
   ],
   "source": [
    "blast_results.head()"
   ]
  },
  {
   "cell_type": "markdown",
   "metadata": {},
   "source": [
    "## Fix the table\n",
    "There is an empty column, and the column some column names are wrong..."
   ]
  },
  {
   "cell_type": "code",
   "execution_count": 4,
   "metadata": {},
   "outputs": [],
   "source": [
    "del blast_results['Unnamed: 3']\n",
    "blast_results = blast_results.rename(columns = {'Entry': 'E-value',\n",
    "                                                'Info': 'Score',\n",
    "                                                'Unnamed: 2': 'Identity'})"
   ]
  },
  {
   "cell_type": "code",
   "execution_count": 5,
   "metadata": {},
   "outputs": [],
   "source": [
    "blast_results['Accession'] = blast_results.index"
   ]
  },
  {
   "cell_type": "code",
   "execution_count": 6,
   "metadata": {},
   "outputs": [
    {
     "data": {
      "text/html": [
       "<div>\n",
       "<style scoped>\n",
       "    .dataframe tbody tr th:only-of-type {\n",
       "        vertical-align: middle;\n",
       "    }\n",
       "\n",
       "    .dataframe tbody tr th {\n",
       "        vertical-align: top;\n",
       "    }\n",
       "\n",
       "    .dataframe thead th {\n",
       "        text-align: right;\n",
       "    }\n",
       "</style>\n",
       "<table border=\"1\" class=\"dataframe\">\n",
       "  <thead>\n",
       "    <tr style=\"text-align: right;\">\n",
       "      <th></th>\n",
       "      <th>E-value</th>\n",
       "      <th>Score</th>\n",
       "      <th>Identity</th>\n",
       "      <th>Status</th>\n",
       "      <th>Taxonomic lineage IDs</th>\n",
       "      <th>Protein names</th>\n",
       "      <th>Sequence</th>\n",
       "      <th>Accession</th>\n",
       "    </tr>\n",
       "  </thead>\n",
       "  <tbody>\n",
       "    <tr>\n",
       "      <th>P0CAB3</th>\n",
       "      <td>E-value: 0.0;</td>\n",
       "      <td>Score: 6,490;</td>\n",
       "      <td>Ident.: 100.0%</td>\n",
       "      <td>reviewed</td>\n",
       "      <td>561445</td>\n",
       "      <td>Uncharacterized protein M1249L (pM1249L)</td>\n",
       "      <td>MEEVITIAQIVHRGTDILSLNNEEIEALVDEIYSTLKGSNDIKNIR...</td>\n",
       "      <td>P0CAB3</td>\n",
       "    </tr>\n",
       "    <tr>\n",
       "      <th>A0A0C5AWP7</th>\n",
       "      <td>E-value: 0.0;</td>\n",
       "      <td>Score: 6,440;</td>\n",
       "      <td>Ident.: 99.0%</td>\n",
       "      <td>unreviewed</td>\n",
       "      <td>10497</td>\n",
       "      <td>BA71V-M1249L</td>\n",
       "      <td>MEEVITIAQIVHRGTDILSLNNEEIEALVDEIYSTLKGSNDIKNIR...</td>\n",
       "      <td>A0A0C5AWP7</td>\n",
       "    </tr>\n",
       "    <tr>\n",
       "      <th>A0A2Z5DFV5</th>\n",
       "      <td>E-value: 0.0;</td>\n",
       "      <td>Score: 6,435;</td>\n",
       "      <td>Ident.: 98.9%</td>\n",
       "      <td>unreviewed</td>\n",
       "      <td>10497</td>\n",
       "      <td>PM1249L</td>\n",
       "      <td>MEEVITIAQIVHRGTDILSLNNEEIEALVDEIYSTLKGSNDIKNIR...</td>\n",
       "      <td>A0A2Z5DFV5</td>\n",
       "    </tr>\n",
       "    <tr>\n",
       "      <th>A0A2Z5DGI2</th>\n",
       "      <td>E-value: 0.0;</td>\n",
       "      <td>Score: 6,434;</td>\n",
       "      <td>Ident.: 98.9%</td>\n",
       "      <td>unreviewed</td>\n",
       "      <td>10497</td>\n",
       "      <td>PM1249L</td>\n",
       "      <td>MEEVITIAQIVHRGTDILSLNNEEIEALVDEIYSTLKGSNDIKNIR...</td>\n",
       "      <td>A0A2Z5DGI2</td>\n",
       "    </tr>\n",
       "    <tr>\n",
       "      <th>A0A0C5AWA9</th>\n",
       "      <td>E-value: 0.0;</td>\n",
       "      <td>Score: 6,403;</td>\n",
       "      <td>Ident.: 98.9%</td>\n",
       "      <td>unreviewed</td>\n",
       "      <td>10497</td>\n",
       "      <td>BA71V-M1249L</td>\n",
       "      <td>MEEVITIAQIVHRGTDILSLNNEEIEALVDEIYSTLKGSNDIKNIR...</td>\n",
       "      <td>A0A0C5AWA9</td>\n",
       "    </tr>\n",
       "  </tbody>\n",
       "</table>\n",
       "</div>"
      ],
      "text/plain": [
       "                  E-value          Score        Identity      Status  \\\n",
       "P0CAB3      E-value: 0.0;  Score: 6,490;  Ident.: 100.0%    reviewed   \n",
       "A0A0C5AWP7  E-value: 0.0;  Score: 6,440;   Ident.: 99.0%  unreviewed   \n",
       "A0A2Z5DFV5  E-value: 0.0;  Score: 6,435;   Ident.: 98.9%  unreviewed   \n",
       "A0A2Z5DGI2  E-value: 0.0;  Score: 6,434;   Ident.: 98.9%  unreviewed   \n",
       "A0A0C5AWA9  E-value: 0.0;  Score: 6,403;   Ident.: 98.9%  unreviewed   \n",
       "\n",
       "           Taxonomic lineage IDs                             Protein names  \\\n",
       "P0CAB3                    561445  Uncharacterized protein M1249L (pM1249L)   \n",
       "A0A0C5AWP7                 10497                              BA71V-M1249L   \n",
       "A0A2Z5DFV5                 10497                                   PM1249L   \n",
       "A0A2Z5DGI2                 10497                                   PM1249L   \n",
       "A0A0C5AWA9                 10497                              BA71V-M1249L   \n",
       "\n",
       "                                                     Sequence   Accession  \n",
       "P0CAB3      MEEVITIAQIVHRGTDILSLNNEEIEALVDEIYSTLKGSNDIKNIR...      P0CAB3  \n",
       "A0A0C5AWP7  MEEVITIAQIVHRGTDILSLNNEEIEALVDEIYSTLKGSNDIKNIR...  A0A0C5AWP7  \n",
       "A0A2Z5DFV5  MEEVITIAQIVHRGTDILSLNNEEIEALVDEIYSTLKGSNDIKNIR...  A0A2Z5DFV5  \n",
       "A0A2Z5DGI2  MEEVITIAQIVHRGTDILSLNNEEIEALVDEIYSTLKGSNDIKNIR...  A0A2Z5DGI2  \n",
       "A0A0C5AWA9  MEEVITIAQIVHRGTDILSLNNEEIEALVDEIYSTLKGSNDIKNIR...  A0A0C5AWA9  "
      ]
     },
     "execution_count": 6,
     "metadata": {},
     "output_type": "execute_result"
    }
   ],
   "source": [
    "blast_results.head()"
   ]
  },
  {
   "cell_type": "markdown",
   "metadata": {},
   "source": [
    "Remove duplicates"
   ]
  },
  {
   "cell_type": "code",
   "execution_count": 7,
   "metadata": {},
   "outputs": [
    {
     "name": "stdout",
     "output_type": "stream",
     "text": [
      "Total rows: 288\n",
      "Total unique ids: 174\n"
     ]
    }
   ],
   "source": [
    "print(\"Total rows:\", len(blast_results))\n",
    "print(\"Total unique ids:\", len(blast_results.Accession.unique()))"
   ]
  },
  {
   "cell_type": "code",
   "execution_count": 17,
   "metadata": {},
   "outputs": [],
   "source": [
    "seqs_with_ids = blast_results.loc[:, [\"Accession\", \"Sequence\", \"Protein names\", \"Taxonomic lineage IDs\"]]"
   ]
  },
  {
   "cell_type": "code",
   "execution_count": 18,
   "metadata": {},
   "outputs": [],
   "source": [
    "seqs_with_ids = seqs_with_ids.drop_duplicates()"
   ]
  },
  {
   "cell_type": "code",
   "execution_count": 19,
   "metadata": {},
   "outputs": [
    {
     "data": {
      "text/html": [
       "<div>\n",
       "<style scoped>\n",
       "    .dataframe tbody tr th:only-of-type {\n",
       "        vertical-align: middle;\n",
       "    }\n",
       "\n",
       "    .dataframe tbody tr th {\n",
       "        vertical-align: top;\n",
       "    }\n",
       "\n",
       "    .dataframe thead th {\n",
       "        text-align: right;\n",
       "    }\n",
       "</style>\n",
       "<table border=\"1\" class=\"dataframe\">\n",
       "  <thead>\n",
       "    <tr style=\"text-align: right;\">\n",
       "      <th></th>\n",
       "      <th>Accession</th>\n",
       "      <th>Sequence</th>\n",
       "      <th>Protein names</th>\n",
       "      <th>Taxonomic lineage IDs</th>\n",
       "    </tr>\n",
       "  </thead>\n",
       "  <tbody>\n",
       "    <tr>\n",
       "      <th>P0CAB3</th>\n",
       "      <td>P0CAB3</td>\n",
       "      <td>MEEVITIAQIVHRGTDILSLNNEEIEALVDEIYSTLKGSNDIKNIR...</td>\n",
       "      <td>Uncharacterized protein M1249L (pM1249L)</td>\n",
       "      <td>561445</td>\n",
       "    </tr>\n",
       "    <tr>\n",
       "      <th>A0A0C5AWP7</th>\n",
       "      <td>A0A0C5AWP7</td>\n",
       "      <td>MEEVITIAQIVHRGTDILSLNNEEIEALVDEIYSTLKGSNDIKNIR...</td>\n",
       "      <td>BA71V-M1249L</td>\n",
       "      <td>10497</td>\n",
       "    </tr>\n",
       "    <tr>\n",
       "      <th>A0A2Z5DFV5</th>\n",
       "      <td>A0A2Z5DFV5</td>\n",
       "      <td>MEEVITIAQIVHRGTDILSLNNEEIEALVDEIYSTLKGSNDIKNIR...</td>\n",
       "      <td>PM1249L</td>\n",
       "      <td>10497</td>\n",
       "    </tr>\n",
       "    <tr>\n",
       "      <th>A0A2Z5DGI2</th>\n",
       "      <td>A0A2Z5DGI2</td>\n",
       "      <td>MEEVITIAQIVHRGTDILSLNNEEIEALVDEIYSTLKGSNDIKNIR...</td>\n",
       "      <td>PM1249L</td>\n",
       "      <td>10497</td>\n",
       "    </tr>\n",
       "    <tr>\n",
       "      <th>A0A0C5AWA9</th>\n",
       "      <td>A0A0C5AWA9</td>\n",
       "      <td>MEEVITIAQIVHRGTDILSLNNEEIEALVDEIYSTLKGSNDIKNIR...</td>\n",
       "      <td>BA71V-M1249L</td>\n",
       "      <td>10497</td>\n",
       "    </tr>\n",
       "  </tbody>\n",
       "</table>\n",
       "</div>"
      ],
      "text/plain": [
       "             Accession                                           Sequence  \\\n",
       "P0CAB3          P0CAB3  MEEVITIAQIVHRGTDILSLNNEEIEALVDEIYSTLKGSNDIKNIR...   \n",
       "A0A0C5AWP7  A0A0C5AWP7  MEEVITIAQIVHRGTDILSLNNEEIEALVDEIYSTLKGSNDIKNIR...   \n",
       "A0A2Z5DFV5  A0A2Z5DFV5  MEEVITIAQIVHRGTDILSLNNEEIEALVDEIYSTLKGSNDIKNIR...   \n",
       "A0A2Z5DGI2  A0A2Z5DGI2  MEEVITIAQIVHRGTDILSLNNEEIEALVDEIYSTLKGSNDIKNIR...   \n",
       "A0A0C5AWA9  A0A0C5AWA9  MEEVITIAQIVHRGTDILSLNNEEIEALVDEIYSTLKGSNDIKNIR...   \n",
       "\n",
       "                                       Protein names Taxonomic lineage IDs  \n",
       "P0CAB3      Uncharacterized protein M1249L (pM1249L)                561445  \n",
       "A0A0C5AWP7                              BA71V-M1249L                 10497  \n",
       "A0A2Z5DFV5                                   PM1249L                 10497  \n",
       "A0A2Z5DGI2                                   PM1249L                 10497  \n",
       "A0A0C5AWA9                              BA71V-M1249L                 10497  "
      ]
     },
     "execution_count": 19,
     "metadata": {},
     "output_type": "execute_result"
    }
   ],
   "source": [
    "seqs_with_ids.head()"
   ]
  },
  {
   "cell_type": "markdown",
   "metadata": {},
   "source": [
    "## Write csv"
   ]
  },
  {
   "cell_type": "code",
   "execution_count": 20,
   "metadata": {},
   "outputs": [],
   "source": [
    "seqs_with_ids.to_csv(\"unique_sequences.csv\", index=False)"
   ]
  },
  {
   "cell_type": "markdown",
   "metadata": {},
   "source": [
    "## Convert csv to fasta"
   ]
  },
  {
   "cell_type": "code",
   "execution_count": 21,
   "metadata": {},
   "outputs": [
    {
     "name": "stdout",
     "output_type": "stream",
     "text": [
      "Usage: csv_to_fasta.py [OPTIONS] CSVFILE IDCOL SEQCOL\n",
      "\n",
      "Options:\n",
      "  --version          Show the version and exit.\n",
      "  -f, --fafile TEXT\n",
      "  -d, --descol TEXT\n",
      "  --help             Show this message and exit.\n"
     ]
    }
   ],
   "source": [
    "%%bash\n",
    "python csv_to_fasta.py --help"
   ]
  },
  {
   "cell_type": "code",
   "execution_count": 23,
   "metadata": {},
   "outputs": [],
   "source": [
    "%%bash\n",
    "python csv_to_fasta.py -f unique-sequences.fa -d Accession unique_sequences.csv -d \"Taxonomic lineage IDs\" \"Protein names\" Sequence"
   ]
  },
  {
   "cell_type": "code",
   "execution_count": null,
   "metadata": {},
   "outputs": [],
   "source": []
  }
 ],
 "metadata": {
  "kernelspec": {
   "display_name": "Python 3",
   "language": "python",
   "name": "python3"
  },
  "language_info": {
   "codemirror_mode": {
    "name": "ipython",
    "version": 3
   },
   "file_extension": ".py",
   "mimetype": "text/x-python",
   "name": "python",
   "nbconvert_exporter": "python",
   "pygments_lexer": "ipython3",
   "version": "3.7.1"
  }
 },
 "nbformat": 4,
 "nbformat_minor": 2
}
